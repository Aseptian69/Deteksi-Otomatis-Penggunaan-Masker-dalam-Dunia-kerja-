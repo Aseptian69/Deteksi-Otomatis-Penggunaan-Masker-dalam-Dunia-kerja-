{
 "cells": [
  {
   "cell_type": "code",
   "execution_count": 1,
   "metadata": {},
   "outputs": [],
   "source": [
    "import cv2"
   ]
  },
  {
   "cell_type": "code",
   "execution_count": 2,
   "metadata": {},
   "outputs": [],
   "source": [
    "face_cascade = cv2.CascadeClassifier(\"haarcascade/haarcascade_frontalface_default.xml\")\n",
    "noseCascade = cv2.CascadeClassifier(\"haarcascade/Nariz.xml\")\n",
    "mouth_cascade = cv2.CascadeClassifier('haarcascade/haarcascade_mcs_mouth.xml')"
   ]
  },
  {
   "cell_type": "code",
   "execution_count": 3,
   "metadata": {},
   "outputs": [
    {
     "ename": "error",
     "evalue": "OpenCV(3.4.8) C:\\projects\\opencv-python\\opencv\\modules\\imgproc\\src\\color.cpp:182: error: (-215:Assertion failed) !_src.empty() in function 'cv::cvtColor'\n",
     "output_type": "error",
     "traceback": [
      "\u001b[1;31m---------------------------------------------------------------------------\u001b[0m",
      "\u001b[1;31merror\u001b[0m                                     Traceback (most recent call last)",
      "\u001b[1;32m<ipython-input-3-2fb0415b75e0>\u001b[0m in \u001b[0;36m<module>\u001b[1;34m\u001b[0m\n\u001b[0;32m      7\u001b[0m     \u001b[0mimg\u001b[0m \u001b[1;33m=\u001b[0m \u001b[0mcv2\u001b[0m\u001b[1;33m.\u001b[0m\u001b[0mflip\u001b[0m\u001b[1;33m(\u001b[0m\u001b[0mimg\u001b[0m\u001b[1;33m,\u001b[0m\u001b[1;36m1\u001b[0m\u001b[1;33m)\u001b[0m\u001b[1;33m\u001b[0m\u001b[1;33m\u001b[0m\u001b[0m\n\u001b[0;32m      8\u001b[0m \u001b[1;33m\u001b[0m\u001b[0m\n\u001b[1;32m----> 9\u001b[1;33m     \u001b[0mgray\u001b[0m \u001b[1;33m=\u001b[0m \u001b[0mcv2\u001b[0m\u001b[1;33m.\u001b[0m\u001b[0mcvtColor\u001b[0m\u001b[1;33m(\u001b[0m\u001b[0mimg\u001b[0m\u001b[1;33m,\u001b[0m \u001b[0mcv2\u001b[0m\u001b[1;33m.\u001b[0m\u001b[0mCOLOR_BGR2GRAY\u001b[0m\u001b[1;33m)\u001b[0m\u001b[1;33m\u001b[0m\u001b[1;33m\u001b[0m\u001b[0m\n\u001b[0m\u001b[0;32m     10\u001b[0m \u001b[1;33m\u001b[0m\u001b[0m\n\u001b[0;32m     11\u001b[0m     \u001b[1;33m(\u001b[0m\u001b[0mthresh\u001b[0m\u001b[1;33m,\u001b[0m \u001b[0mblack_and_white\u001b[0m\u001b[1;33m)\u001b[0m \u001b[1;33m=\u001b[0m \u001b[0mcv2\u001b[0m\u001b[1;33m.\u001b[0m\u001b[0mthreshold\u001b[0m\u001b[1;33m(\u001b[0m\u001b[0mgray\u001b[0m\u001b[1;33m,\u001b[0m \u001b[0mbw_threshold\u001b[0m\u001b[1;33m,\u001b[0m \u001b[1;36m255\u001b[0m\u001b[1;33m,\u001b[0m \u001b[0mcv2\u001b[0m\u001b[1;33m.\u001b[0m\u001b[0mTHRESH_BINARY\u001b[0m\u001b[1;33m)\u001b[0m\u001b[1;33m\u001b[0m\u001b[1;33m\u001b[0m\u001b[0m\n",
      "\u001b[1;31merror\u001b[0m: OpenCV(3.4.8) C:\\projects\\opencv-python\\opencv\\modules\\imgproc\\src\\color.cpp:182: error: (-215:Assertion failed) !_src.empty() in function 'cv::cvtColor'\n"
     ]
    }
   ],
   "source": [
    "bw_threshold = 80\n",
    "font = cv2.FONT_HERSHEY_SIMPLEX\n",
    "cap = cv2.VideoCapture(0)\n",
    "\n",
    "while 1:\n",
    "    ret, img = cap.read()\n",
    "    img = cv2.flip(img,1)\n",
    "\n",
    "    gray = cv2.cvtColor(img, cv2.COLOR_BGR2GRAY)\n",
    "    \n",
    "    (thresh, black_and_white) = cv2.threshold(gray, bw_threshold, 255, cv2.THRESH_BINARY)\n",
    "    #cv2.imshow('black_and_white', black_and_white)\n",
    "\n",
    "    faces = face_cascade.detectMultiScale(gray, 1.1, 4)\n",
    "\n",
    "    faces_bw = face_cascade.detectMultiScale(black_and_white, 1.1, 4)\n",
    "\n",
    "    if(len(faces) == 0 and len(faces_bw) == 0):\n",
    "        cv2.putText(img,'Tidak Ada Orang',(250,50),font,1,(255,0,0),2)\n",
    "    else:\n",
    "        for (x, y, w, h) in faces:\n",
    "           \n",
    "            mouth_rects = mouth_cascade.detectMultiScale(gray, 1.5, 5)\n",
    "            \n",
    "            nose_rects = noseCascade.detectMultiScale(gray, 1.5, 5)\n",
    "            \n",
    "        if(len(mouth_rects) == 0 and len(nose_rects) == 0):\n",
    "            cv2.putText(img,'Menggunakan Masker',(170,50),font,1,(0,255,0),2)\n",
    "            cv2.rectangle(img, (x, y), (x + w, y + h), (0,255,0), 5)\n",
    "        elif(len(mouth_rects) == 0 and len(nose_rects) != 0):\n",
    "            cv2.putText(img,'Pengunaan Masker Salah',(150,50),font,1,(0, 255, 255),2)\n",
    "            cv2.rectangle(img, (x, y), (x + w, y + h), (0,255,255), 5)\n",
    "        elif(len(mouth_rects) != 0 and len(nose_rects) == 0):\n",
    "            cv2.putText(img,'Pengunaan Masker Salah',(150,50),font,1,(0, 251, 255),2)\n",
    "            cv2.rectangle(img, (x, y), (x + w, y + h), (0,255,255), 5)\n",
    "        else:\n",
    "            for (mx, my, mw, mh) in mouth_rects:\n",
    "                if(y < my < y + h):\n",
    "                    cv2.rectangle(img, (mx, my), (mx + mw, my + mh), (0, 0, 255), 2)\n",
    "                    break\n",
    "                    \n",
    "            for (mx, my, mw, mh) in nose_rects:\n",
    "                if(y < my < y + h):\n",
    "                    cv2.rectangle(img, (mx, my), (mx + mw, my + mh), (0, 0, 255), 2)\n",
    "                    break\n",
    "                    \n",
    "            cv2.putText(img,'Tidak Menggunakan Masker',(150,50),font,1,(0, 0, 255),2)\n",
    "            cv2.rectangle(img, (x, y), (x + w, y + h), (0,0,255), 5)\n",
    "\n",
    "    cv2.imshow('Deteksi Masker', img)\n",
    "    k = cv2.waitKey(30) & 0xff\n",
    "    if k == 27:\n",
    "        break\n",
    "\n",
    "cap.release()\n",
    "cv2.destroyAllWindows()"
   ]
  },
  {
   "cell_type": "code",
   "execution_count": null,
   "metadata": {},
   "outputs": [],
   "source": []
  },
  {
   "cell_type": "code",
   "execution_count": null,
   "metadata": {},
   "outputs": [],
   "source": []
  }
 ],
 "metadata": {
  "kernelspec": {
   "display_name": "Python 3",
   "language": "python",
   "name": "python3"
  },
  "language_info": {
   "codemirror_mode": {
    "name": "ipython",
    "version": 3
   },
   "file_extension": ".py",
   "mimetype": "text/x-python",
   "name": "python",
   "nbconvert_exporter": "python",
   "pygments_lexer": "ipython3",
   "version": "3.8.3"
  }
 },
 "nbformat": 4,
 "nbformat_minor": 4
}
